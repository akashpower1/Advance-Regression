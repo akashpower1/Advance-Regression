{
 "cells": [
  {
   "cell_type": "markdown",
   "id": "24cd0233",
   "metadata": {},
   "source": [
    "**Problem Statement**"
   ]
  },
  {
   "cell_type": "markdown",
   "id": "c86124bb",
   "metadata": {},
   "source": [
    "A US-based housing company named Surprise Housing has decided to enter the Australian market. The company uses data analytics to purchase houses at a price below their actual values and flip them on at a higher price. For the same purpose, the company has collected a data set from the sale of houses in Australia. The data is provided in the CSV file below.\n",
    "\n",
    " \n",
    "\n",
    "The company is looking at prospective properties to buy to enter the market. You are required to build a regression model using regularisation in order to predict the actual value of the prospective properties and decide whether to invest in them or not.\n",
    "\n",
    " \n",
    "\n",
    "The company wants to know the following things about the prospective properties:\n",
    "\n",
    "- Which variables are significant in predicting the price of a house, and\n",
    "\n",
    "- How well those variables describe the price of a house.\n",
    "\n",
    " \n",
    "\n",
    "Also, determine the optimal value of lambda for ridge and lasso regression."
   ]
  },
  {
   "cell_type": "code",
   "execution_count": 1,
   "id": "0680831c",
   "metadata": {},
   "outputs": [],
   "source": [
    "#Import Libaries.\n",
    "import pandas as pd\n",
    "from sklearn.decomposition import PCA\n",
    "from sklearn.preprocessing import StandardScaler\n",
    "from sklearn.linear_model import LinearRegression, Ridge, Lasso\n",
    "from sklearn.metrics import r2_score\n",
    "import matplotlib.pyplot as plt\n",
    "import seaborn as sns\n",
    "from sklearn.model_selection import train_test_split\n",
    "import numpy as np\n",
    "import warnings\n",
    "warnings.filterwarnings('ignore')"
   ]
  },
  {
   "cell_type": "code",
   "execution_count": 2,
   "id": "d7725943",
   "metadata": {},
   "outputs": [],
   "source": [
    "data = pd.read_csv('train.csv')"
   ]
  },
  {
   "cell_type": "code",
   "execution_count": 3,
   "id": "0ee793ae",
   "metadata": {},
   "outputs": [
    {
     "data": {
      "text/html": [
       "<div>\n",
       "<style scoped>\n",
       "    .dataframe tbody tr th:only-of-type {\n",
       "        vertical-align: middle;\n",
       "    }\n",
       "\n",
       "    .dataframe tbody tr th {\n",
       "        vertical-align: top;\n",
       "    }\n",
       "\n",
       "    .dataframe thead th {\n",
       "        text-align: right;\n",
       "    }\n",
       "</style>\n",
       "<table border=\"1\" class=\"dataframe\">\n",
       "  <thead>\n",
       "    <tr style=\"text-align: right;\">\n",
       "      <th></th>\n",
       "      <th>Id</th>\n",
       "      <th>MSSubClass</th>\n",
       "      <th>MSZoning</th>\n",
       "      <th>LotFrontage</th>\n",
       "      <th>LotArea</th>\n",
       "      <th>Street</th>\n",
       "      <th>Alley</th>\n",
       "      <th>LotShape</th>\n",
       "      <th>LandContour</th>\n",
       "      <th>Utilities</th>\n",
       "      <th>...</th>\n",
       "      <th>PoolArea</th>\n",
       "      <th>PoolQC</th>\n",
       "      <th>Fence</th>\n",
       "      <th>MiscFeature</th>\n",
       "      <th>MiscVal</th>\n",
       "      <th>MoSold</th>\n",
       "      <th>YrSold</th>\n",
       "      <th>SaleType</th>\n",
       "      <th>SaleCondition</th>\n",
       "      <th>SalePrice</th>\n",
       "    </tr>\n",
       "  </thead>\n",
       "  <tbody>\n",
       "    <tr>\n",
       "      <th>0</th>\n",
       "      <td>1</td>\n",
       "      <td>60</td>\n",
       "      <td>RL</td>\n",
       "      <td>65.0</td>\n",
       "      <td>8450</td>\n",
       "      <td>Pave</td>\n",
       "      <td>NaN</td>\n",
       "      <td>Reg</td>\n",
       "      <td>Lvl</td>\n",
       "      <td>AllPub</td>\n",
       "      <td>...</td>\n",
       "      <td>0</td>\n",
       "      <td>NaN</td>\n",
       "      <td>NaN</td>\n",
       "      <td>NaN</td>\n",
       "      <td>0</td>\n",
       "      <td>2</td>\n",
       "      <td>2008</td>\n",
       "      <td>WD</td>\n",
       "      <td>Normal</td>\n",
       "      <td>208500</td>\n",
       "    </tr>\n",
       "    <tr>\n",
       "      <th>1</th>\n",
       "      <td>2</td>\n",
       "      <td>20</td>\n",
       "      <td>RL</td>\n",
       "      <td>80.0</td>\n",
       "      <td>9600</td>\n",
       "      <td>Pave</td>\n",
       "      <td>NaN</td>\n",
       "      <td>Reg</td>\n",
       "      <td>Lvl</td>\n",
       "      <td>AllPub</td>\n",
       "      <td>...</td>\n",
       "      <td>0</td>\n",
       "      <td>NaN</td>\n",
       "      <td>NaN</td>\n",
       "      <td>NaN</td>\n",
       "      <td>0</td>\n",
       "      <td>5</td>\n",
       "      <td>2007</td>\n",
       "      <td>WD</td>\n",
       "      <td>Normal</td>\n",
       "      <td>181500</td>\n",
       "    </tr>\n",
       "    <tr>\n",
       "      <th>2</th>\n",
       "      <td>3</td>\n",
       "      <td>60</td>\n",
       "      <td>RL</td>\n",
       "      <td>68.0</td>\n",
       "      <td>11250</td>\n",
       "      <td>Pave</td>\n",
       "      <td>NaN</td>\n",
       "      <td>IR1</td>\n",
       "      <td>Lvl</td>\n",
       "      <td>AllPub</td>\n",
       "      <td>...</td>\n",
       "      <td>0</td>\n",
       "      <td>NaN</td>\n",
       "      <td>NaN</td>\n",
       "      <td>NaN</td>\n",
       "      <td>0</td>\n",
       "      <td>9</td>\n",
       "      <td>2008</td>\n",
       "      <td>WD</td>\n",
       "      <td>Normal</td>\n",
       "      <td>223500</td>\n",
       "    </tr>\n",
       "    <tr>\n",
       "      <th>3</th>\n",
       "      <td>4</td>\n",
       "      <td>70</td>\n",
       "      <td>RL</td>\n",
       "      <td>60.0</td>\n",
       "      <td>9550</td>\n",
       "      <td>Pave</td>\n",
       "      <td>NaN</td>\n",
       "      <td>IR1</td>\n",
       "      <td>Lvl</td>\n",
       "      <td>AllPub</td>\n",
       "      <td>...</td>\n",
       "      <td>0</td>\n",
       "      <td>NaN</td>\n",
       "      <td>NaN</td>\n",
       "      <td>NaN</td>\n",
       "      <td>0</td>\n",
       "      <td>2</td>\n",
       "      <td>2006</td>\n",
       "      <td>WD</td>\n",
       "      <td>Abnorml</td>\n",
       "      <td>140000</td>\n",
       "    </tr>\n",
       "    <tr>\n",
       "      <th>4</th>\n",
       "      <td>5</td>\n",
       "      <td>60</td>\n",
       "      <td>RL</td>\n",
       "      <td>84.0</td>\n",
       "      <td>14260</td>\n",
       "      <td>Pave</td>\n",
       "      <td>NaN</td>\n",
       "      <td>IR1</td>\n",
       "      <td>Lvl</td>\n",
       "      <td>AllPub</td>\n",
       "      <td>...</td>\n",
       "      <td>0</td>\n",
       "      <td>NaN</td>\n",
       "      <td>NaN</td>\n",
       "      <td>NaN</td>\n",
       "      <td>0</td>\n",
       "      <td>12</td>\n",
       "      <td>2008</td>\n",
       "      <td>WD</td>\n",
       "      <td>Normal</td>\n",
       "      <td>250000</td>\n",
       "    </tr>\n",
       "  </tbody>\n",
       "</table>\n",
       "<p>5 rows × 81 columns</p>\n",
       "</div>"
      ],
      "text/plain": [
       "   Id  MSSubClass MSZoning  LotFrontage  LotArea Street Alley LotShape  \\\n",
       "0   1          60       RL         65.0     8450   Pave   NaN      Reg   \n",
       "1   2          20       RL         80.0     9600   Pave   NaN      Reg   \n",
       "2   3          60       RL         68.0    11250   Pave   NaN      IR1   \n",
       "3   4          70       RL         60.0     9550   Pave   NaN      IR1   \n",
       "4   5          60       RL         84.0    14260   Pave   NaN      IR1   \n",
       "\n",
       "  LandContour Utilities  ... PoolArea PoolQC Fence MiscFeature MiscVal MoSold  \\\n",
       "0         Lvl    AllPub  ...        0    NaN   NaN         NaN       0      2   \n",
       "1         Lvl    AllPub  ...        0    NaN   NaN         NaN       0      5   \n",
       "2         Lvl    AllPub  ...        0    NaN   NaN         NaN       0      9   \n",
       "3         Lvl    AllPub  ...        0    NaN   NaN         NaN       0      2   \n",
       "4         Lvl    AllPub  ...        0    NaN   NaN         NaN       0     12   \n",
       "\n",
       "  YrSold  SaleType  SaleCondition  SalePrice  \n",
       "0   2008        WD         Normal     208500  \n",
       "1   2007        WD         Normal     181500  \n",
       "2   2008        WD         Normal     223500  \n",
       "3   2006        WD        Abnorml     140000  \n",
       "4   2008        WD         Normal     250000  \n",
       "\n",
       "[5 rows x 81 columns]"
      ]
     },
     "execution_count": 3,
     "metadata": {},
     "output_type": "execute_result"
    }
   ],
   "source": [
    "data.head()"
   ]
  },
  {
   "cell_type": "code",
   "execution_count": 4,
   "id": "fb0db5fa",
   "metadata": {},
   "outputs": [
    {
     "name": "stdout",
     "output_type": "stream",
     "text": [
      "<class 'pandas.core.frame.DataFrame'>\n",
      "RangeIndex: 1460 entries, 0 to 1459\n",
      "Data columns (total 81 columns):\n",
      " #   Column         Non-Null Count  Dtype  \n",
      "---  ------         --------------  -----  \n",
      " 0   Id             1460 non-null   int64  \n",
      " 1   MSSubClass     1460 non-null   int64  \n",
      " 2   MSZoning       1460 non-null   object \n",
      " 3   LotFrontage    1201 non-null   float64\n",
      " 4   LotArea        1460 non-null   int64  \n",
      " 5   Street         1460 non-null   object \n",
      " 6   Alley          91 non-null     object \n",
      " 7   LotShape       1460 non-null   object \n",
      " 8   LandContour    1460 non-null   object \n",
      " 9   Utilities      1460 non-null   object \n",
      " 10  LotConfig      1460 non-null   object \n",
      " 11  LandSlope      1460 non-null   object \n",
      " 12  Neighborhood   1460 non-null   object \n",
      " 13  Condition1     1460 non-null   object \n",
      " 14  Condition2     1460 non-null   object \n",
      " 15  BldgType       1460 non-null   object \n",
      " 16  HouseStyle     1460 non-null   object \n",
      " 17  OverallQual    1460 non-null   int64  \n",
      " 18  OverallCond    1460 non-null   int64  \n",
      " 19  YearBuilt      1460 non-null   int64  \n",
      " 20  YearRemodAdd   1460 non-null   int64  \n",
      " 21  RoofStyle      1460 non-null   object \n",
      " 22  RoofMatl       1460 non-null   object \n",
      " 23  Exterior1st    1460 non-null   object \n",
      " 24  Exterior2nd    1460 non-null   object \n",
      " 25  MasVnrType     1452 non-null   object \n",
      " 26  MasVnrArea     1452 non-null   float64\n",
      " 27  ExterQual      1460 non-null   object \n",
      " 28  ExterCond      1460 non-null   object \n",
      " 29  Foundation     1460 non-null   object \n",
      " 30  BsmtQual       1423 non-null   object \n",
      " 31  BsmtCond       1423 non-null   object \n",
      " 32  BsmtExposure   1422 non-null   object \n",
      " 33  BsmtFinType1   1423 non-null   object \n",
      " 34  BsmtFinSF1     1460 non-null   int64  \n",
      " 35  BsmtFinType2   1422 non-null   object \n",
      " 36  BsmtFinSF2     1460 non-null   int64  \n",
      " 37  BsmtUnfSF      1460 non-null   int64  \n",
      " 38  TotalBsmtSF    1460 non-null   int64  \n",
      " 39  Heating        1460 non-null   object \n",
      " 40  HeatingQC      1460 non-null   object \n",
      " 41  CentralAir     1460 non-null   object \n",
      " 42  Electrical     1459 non-null   object \n",
      " 43  1stFlrSF       1460 non-null   int64  \n",
      " 44  2ndFlrSF       1460 non-null   int64  \n",
      " 45  LowQualFinSF   1460 non-null   int64  \n",
      " 46  GrLivArea      1460 non-null   int64  \n",
      " 47  BsmtFullBath   1460 non-null   int64  \n",
      " 48  BsmtHalfBath   1460 non-null   int64  \n",
      " 49  FullBath       1460 non-null   int64  \n",
      " 50  HalfBath       1460 non-null   int64  \n",
      " 51  BedroomAbvGr   1460 non-null   int64  \n",
      " 52  KitchenAbvGr   1460 non-null   int64  \n",
      " 53  KitchenQual    1460 non-null   object \n",
      " 54  TotRmsAbvGrd   1460 non-null   int64  \n",
      " 55  Functional     1460 non-null   object \n",
      " 56  Fireplaces     1460 non-null   int64  \n",
      " 57  FireplaceQu    770 non-null    object \n",
      " 58  GarageType     1379 non-null   object \n",
      " 59  GarageYrBlt    1379 non-null   float64\n",
      " 60  GarageFinish   1379 non-null   object \n",
      " 61  GarageCars     1460 non-null   int64  \n",
      " 62  GarageArea     1460 non-null   int64  \n",
      " 63  GarageQual     1379 non-null   object \n",
      " 64  GarageCond     1379 non-null   object \n",
      " 65  PavedDrive     1460 non-null   object \n",
      " 66  WoodDeckSF     1460 non-null   int64  \n",
      " 67  OpenPorchSF    1460 non-null   int64  \n",
      " 68  EnclosedPorch  1460 non-null   int64  \n",
      " 69  3SsnPorch      1460 non-null   int64  \n",
      " 70  ScreenPorch    1460 non-null   int64  \n",
      " 71  PoolArea       1460 non-null   int64  \n",
      " 72  PoolQC         7 non-null      object \n",
      " 73  Fence          281 non-null    object \n",
      " 74  MiscFeature    54 non-null     object \n",
      " 75  MiscVal        1460 non-null   int64  \n",
      " 76  MoSold         1460 non-null   int64  \n",
      " 77  YrSold         1460 non-null   int64  \n",
      " 78  SaleType       1460 non-null   object \n",
      " 79  SaleCondition  1460 non-null   object \n",
      " 80  SalePrice      1460 non-null   int64  \n",
      "dtypes: float64(3), int64(35), object(43)\n",
      "memory usage: 924.0+ KB\n"
     ]
    }
   ],
   "source": [
    "#Getting data information.\n",
    "data.info()"
   ]
  },
  {
   "cell_type": "code",
   "execution_count": 5,
   "id": "2c651bf1",
   "metadata": {},
   "outputs": [
    {
     "data": {
      "text/plain": [
       "(1460, 81)"
      ]
     },
     "execution_count": 5,
     "metadata": {},
     "output_type": "execute_result"
    }
   ],
   "source": [
    "#Checking the shape of data.\n",
    "data.shape"
   ]
  },
  {
   "cell_type": "code",
   "execution_count": 6,
   "id": "98166128",
   "metadata": {},
   "outputs": [],
   "source": [
    "null_data = round(data.isnull().mean()*100,2).sort_values(ascending=False)"
   ]
  },
  {
   "cell_type": "code",
   "execution_count": 7,
   "id": "d355b3bc",
   "metadata": {},
   "outputs": [],
   "source": [
    "#Getting all the data which has null more then 5%\n",
    "null_column = null_data[null_data > 5].index"
   ]
  },
  {
   "cell_type": "code",
   "execution_count": 8,
   "id": "2e61cdfe",
   "metadata": {},
   "outputs": [],
   "source": [
    "#Dropping all the columns with null more then 5%\n",
    "data.drop(columns= null_column, inplace=True)"
   ]
  },
  {
   "cell_type": "code",
   "execution_count": 9,
   "id": "7e328c1d",
   "metadata": {},
   "outputs": [
    {
     "data": {
      "text/plain": [
       "BsmtFinType2    2.60\n",
       "BsmtExposure    2.60\n",
       "BsmtCond        2.53\n",
       "BsmtFinType1    2.53\n",
       "BsmtQual        2.53\n",
       "                ... \n",
       "BsmtFinSF1      0.00\n",
       "BsmtFinSF2      0.00\n",
       "MSSubClass      0.00\n",
       "TotalBsmtSF     0.00\n",
       "SalePrice       0.00\n",
       "Length: 70, dtype: float64"
      ]
     },
     "execution_count": 9,
     "metadata": {},
     "output_type": "execute_result"
    }
   ],
   "source": [
    "round(data.isnull().mean()*100,2).sort_values(ascending=False)"
   ]
  },
  {
   "cell_type": "code",
   "execution_count": 10,
   "id": "1a33f364",
   "metadata": {},
   "outputs": [
    {
     "data": {
      "text/plain": [
       "Index(['MasVnrType', 'MasVnrArea', 'BsmtQual', 'BsmtCond', 'BsmtExposure',\n",
       "       'BsmtFinType1', 'BsmtFinType2', 'Electrical'],\n",
       "      dtype='object')"
      ]
     },
     "execution_count": 10,
     "metadata": {},
     "output_type": "execute_result"
    }
   ],
   "source": [
    "#Checking which column still have nulls.\n",
    "null_data = round(data.isnull().mean()*100,2)\n",
    "null_data[null_data != 0].index"
   ]
  },
  {
   "cell_type": "code",
   "execution_count": 11,
   "id": "f9733324",
   "metadata": {},
   "outputs": [],
   "source": [
    "#Removing rows which do not have the data for following columns(as the no of nulls are very less so we can remove the row itself).\n",
    "data = data[~data['MasVnrType'].isnull()]\n",
    "data = data[~data['BsmtQual'].isnull()]\n",
    "data = data[~data['BsmtExposure'].isnull()]\n",
    "data = data[~data['BsmtFinType2'].isnull()]\n",
    "data = data[~data['Electrical'].isnull()]"
   ]
  },
  {
   "cell_type": "code",
   "execution_count": 12,
   "id": "322597a8",
   "metadata": {},
   "outputs": [
    {
     "data": {
      "text/plain": [
       "Id              0.0\n",
       "GrLivArea       0.0\n",
       "KitchenAbvGr    0.0\n",
       "BedroomAbvGr    0.0\n",
       "HalfBath        0.0\n",
       "               ... \n",
       "BsmtCond        0.0\n",
       "BsmtExposure    0.0\n",
       "BsmtFinType1    0.0\n",
       "BsmtFinSF1      0.0\n",
       "SalePrice       0.0\n",
       "Length: 70, dtype: float64"
      ]
     },
     "execution_count": 12,
     "metadata": {},
     "output_type": "execute_result"
    }
   ],
   "source": [
    "#Checking for nulls(as all the cleaning is done so we should not have any nulls now).\n",
    "round(data.isnull().mean()*100,2).sort_values(ascending=False)"
   ]
  },
  {
   "cell_type": "code",
   "execution_count": 13,
   "id": "14954504",
   "metadata": {},
   "outputs": [
    {
     "data": {
      "text/plain": [
       "(1412, 70)"
      ]
     },
     "execution_count": 13,
     "metadata": {},
     "output_type": "execute_result"
    }
   ],
   "source": [
    "#Checking the shape of data.\n",
    "data.shape"
   ]
  },
  {
   "cell_type": "code",
   "execution_count": 14,
   "id": "e1cf834b",
   "metadata": {},
   "outputs": [
    {
     "data": {
      "text/html": [
       "<div>\n",
       "<style scoped>\n",
       "    .dataframe tbody tr th:only-of-type {\n",
       "        vertical-align: middle;\n",
       "    }\n",
       "\n",
       "    .dataframe tbody tr th {\n",
       "        vertical-align: top;\n",
       "    }\n",
       "\n",
       "    .dataframe thead th {\n",
       "        text-align: right;\n",
       "    }\n",
       "</style>\n",
       "<table border=\"1\" class=\"dataframe\">\n",
       "  <thead>\n",
       "    <tr style=\"text-align: right;\">\n",
       "      <th></th>\n",
       "      <th>Id</th>\n",
       "      <th>MSSubClass</th>\n",
       "      <th>MSZoning</th>\n",
       "      <th>LotArea</th>\n",
       "      <th>Street</th>\n",
       "      <th>LotShape</th>\n",
       "      <th>LandContour</th>\n",
       "      <th>Utilities</th>\n",
       "      <th>LotConfig</th>\n",
       "      <th>LandSlope</th>\n",
       "      <th>...</th>\n",
       "      <th>EnclosedPorch</th>\n",
       "      <th>3SsnPorch</th>\n",
       "      <th>ScreenPorch</th>\n",
       "      <th>PoolArea</th>\n",
       "      <th>MiscVal</th>\n",
       "      <th>MoSold</th>\n",
       "      <th>YrSold</th>\n",
       "      <th>SaleType</th>\n",
       "      <th>SaleCondition</th>\n",
       "      <th>SalePrice</th>\n",
       "    </tr>\n",
       "  </thead>\n",
       "  <tbody>\n",
       "  </tbody>\n",
       "</table>\n",
       "<p>0 rows × 70 columns</p>\n",
       "</div>"
      ],
      "text/plain": [
       "Empty DataFrame\n",
       "Columns: [Id, MSSubClass, MSZoning, LotArea, Street, LotShape, LandContour, Utilities, LotConfig, LandSlope, Neighborhood, Condition1, Condition2, BldgType, HouseStyle, OverallQual, OverallCond, YearBuilt, YearRemodAdd, RoofStyle, RoofMatl, Exterior1st, Exterior2nd, MasVnrType, MasVnrArea, ExterQual, ExterCond, Foundation, BsmtQual, BsmtCond, BsmtExposure, BsmtFinType1, BsmtFinSF1, BsmtFinType2, BsmtFinSF2, BsmtUnfSF, TotalBsmtSF, Heating, HeatingQC, CentralAir, Electrical, 1stFlrSF, 2ndFlrSF, LowQualFinSF, GrLivArea, BsmtFullBath, BsmtHalfBath, FullBath, HalfBath, BedroomAbvGr, KitchenAbvGr, KitchenQual, TotRmsAbvGrd, Functional, Fireplaces, GarageCars, GarageArea, PavedDrive, WoodDeckSF, OpenPorchSF, EnclosedPorch, 3SsnPorch, ScreenPorch, PoolArea, MiscVal, MoSold, YrSold, SaleType, SaleCondition, SalePrice]\n",
       "Index: []\n",
       "\n",
       "[0 rows x 70 columns]"
      ]
     },
     "execution_count": 14,
     "metadata": {},
     "output_type": "execute_result"
    }
   ],
   "source": [
    "#checking for duplicate data using Id.\n",
    "data[data.duplicated(subset='Id')]"
   ]
  },
  {
   "cell_type": "markdown",
   "id": "15c6dd35",
   "metadata": {},
   "source": [
    "**Inferance:**\n",
    "- No duplicate present"
   ]
  },
  {
   "cell_type": "code",
   "execution_count": 15,
   "id": "2dbdd67b",
   "metadata": {},
   "outputs": [],
   "source": [
    "#Removing id column as it will not help in predection.\n",
    "data.drop(columns='Id',inplace=True)"
   ]
  },
  {
   "cell_type": "code",
   "execution_count": 16,
   "id": "d467f59d",
   "metadata": {},
   "outputs": [
    {
     "name": "stdout",
     "output_type": "stream",
     "text": [
      "***************  MSZoning  ***************\n",
      "RL         1111\n",
      "RM          214\n",
      "FV           62\n",
      "RH           15\n",
      "C (all)      10\n",
      "Name: MSZoning, dtype: int64\n",
      "-----------------------------------------------------------\n",
      "***************  Street  ***************\n",
      "Pave    1406\n",
      "Grvl       6\n",
      "Name: Street, dtype: int64\n",
      "-----------------------------------------------------------\n",
      "***************  LotShape  ***************\n",
      "Reg    886\n",
      "IR1    476\n",
      "IR2     40\n",
      "IR3     10\n",
      "Name: LotShape, dtype: int64\n",
      "-----------------------------------------------------------\n",
      "***************  LandContour  ***************\n",
      "Lvl    1267\n",
      "Bnk      61\n",
      "HLS      50\n",
      "Low      34\n",
      "Name: LandContour, dtype: int64\n",
      "-----------------------------------------------------------\n",
      "***************  Utilities  ***************\n",
      "AllPub    1411\n",
      "NoSeWa       1\n",
      "Name: Utilities, dtype: int64\n",
      "-----------------------------------------------------------\n",
      "***************  LotConfig  ***************\n",
      "Inside     1015\n",
      "Corner      256\n",
      "CulDSac      91\n",
      "FR2          46\n",
      "FR3           4\n",
      "Name: LotConfig, dtype: int64\n",
      "-----------------------------------------------------------\n",
      "***************  LandSlope  ***************\n",
      "Gtl    1335\n",
      "Mod      64\n",
      "Sev      13\n",
      "Name: LandSlope, dtype: int64\n",
      "-----------------------------------------------------------\n",
      "***************  Neighborhood  ***************\n",
      "NAmes      215\n",
      "CollgCr    148\n",
      "OldTown    111\n",
      "Edwards     89\n",
      "Somerst     83\n",
      "Gilbert     77\n",
      "NridgHt     75\n",
      "NWAmes      73\n",
      "Sawyer      72\n",
      "BrkSide     55\n",
      "SawyerW     54\n",
      "Crawfor     50\n",
      "Mitchel     47\n",
      "NoRidge     41\n",
      "Timber      37\n",
      "IDOTRR      36\n",
      "ClearCr     27\n",
      "SWISU       25\n",
      "StoneBr     25\n",
      "Blmngtn     17\n",
      "MeadowV     17\n",
      "BrDale      16\n",
      "Veenker     11\n",
      "NPkVill      9\n",
      "Blueste      2\n",
      "Name: Neighborhood, dtype: int64\n",
      "-----------------------------------------------------------\n",
      "***************  Condition1  ***************\n",
      "Norm      1220\n",
      "Feedr       75\n",
      "Artery      47\n",
      "RRAn        26\n",
      "PosN        19\n",
      "RRAe        10\n",
      "PosA         8\n",
      "RRNn         5\n",
      "RRNe         2\n",
      "Name: Condition1, dtype: int64\n",
      "-----------------------------------------------------------\n",
      "***************  Condition2  ***************\n",
      "Norm      1397\n",
      "Feedr        6\n",
      "PosN         2\n",
      "Artery       2\n",
      "RRNn         2\n",
      "RRAe         1\n",
      "RRAn         1\n",
      "PosA         1\n",
      "Name: Condition2, dtype: int64\n",
      "-----------------------------------------------------------\n",
      "***************  BldgType  ***************\n",
      "1Fam      1189\n",
      "TwnhsE     113\n",
      "Twnhs       43\n",
      "Duplex      38\n",
      "2fmCon      29\n",
      "Name: BldgType, dtype: int64\n",
      "-----------------------------------------------------------\n",
      "***************  HouseStyle  ***************\n",
      "1Story    693\n",
      "2Story    437\n",
      "1.5Fin    149\n",
      "SLvl       64\n",
      "SFoyer     36\n",
      "1.5Unf     14\n",
      "2.5Unf     11\n",
      "2.5Fin      8\n",
      "Name: HouseStyle, dtype: int64\n",
      "-----------------------------------------------------------\n",
      "***************  RoofStyle  ***************\n",
      "Gable      1103\n",
      "Hip         277\n",
      "Flat         12\n",
      "Gambrel      11\n",
      "Mansard       7\n",
      "Shed          2\n",
      "Name: RoofStyle, dtype: int64\n",
      "-----------------------------------------------------------\n",
      "***************  RoofMatl  ***************\n",
      "CompShg    1387\n",
      "Tar&Grv      10\n",
      "WdShngl       6\n",
      "WdShake       5\n",
      "Membran       1\n",
      "Metal         1\n",
      "ClyTile       1\n",
      "Roll          1\n",
      "Name: RoofMatl, dtype: int64\n",
      "-----------------------------------------------------------\n",
      "***************  Exterior1st  ***************\n",
      "VinylSd    501\n",
      "HdBoard    218\n",
      "MetalSd    215\n",
      "Wd Sdng    201\n",
      "Plywood    103\n",
      "CemntBd     59\n",
      "BrkFace     45\n",
      "WdShing     24\n",
      "Stucco      23\n",
      "AsbShng     18\n",
      "Stone        2\n",
      "ImStucc      1\n",
      "BrkComm      1\n",
      "CBlock       1\n",
      "Name: Exterior1st, dtype: int64\n",
      "-----------------------------------------------------------\n",
      "***************  Exterior2nd  ***************\n",
      "VinylSd    491\n",
      "MetalSd    209\n",
      "HdBoard    203\n",
      "Wd Sdng    191\n",
      "Plywood    135\n",
      "CmentBd     58\n",
      "Wd Shng     36\n",
      "Stucco      25\n",
      "BrkFace     23\n",
      "AsbShng     19\n",
      "ImStucc     10\n",
      "Brk Cmn      6\n",
      "AsphShn      2\n",
      "Stone        2\n",
      "Other        1\n",
      "CBlock       1\n",
      "Name: Exterior2nd, dtype: int64\n",
      "-----------------------------------------------------------\n",
      "***************  MasVnrType  ***************\n",
      "None       831\n",
      "BrkFace    438\n",
      "Stone      128\n",
      "BrkCmn      15\n",
      "Name: MasVnrType, dtype: int64\n",
      "-----------------------------------------------------------\n",
      "***************  ExterQual  ***************\n",
      "TA    871\n",
      "Gd    478\n",
      "Ex     51\n",
      "Fa     12\n",
      "Name: ExterQual, dtype: int64\n",
      "-----------------------------------------------------------\n",
      "***************  ExterCond  ***************\n",
      "TA    1239\n",
      "Gd     145\n",
      "Fa      24\n",
      "Ex       3\n",
      "Po       1\n",
      "Name: ExterCond, dtype: int64\n",
      "-----------------------------------------------------------\n",
      "***************  Foundation  ***************\n",
      "PConc     633\n",
      "CBlock    625\n",
      "BrkTil    145\n",
      "Stone       6\n",
      "Wood        3\n",
      "Name: Foundation, dtype: int64\n",
      "-----------------------------------------------------------\n",
      "***************  BsmtQual  ***************\n",
      "TA    648\n",
      "Gd    609\n",
      "Ex    120\n",
      "Fa     35\n",
      "Name: BsmtQual, dtype: int64\n",
      "-----------------------------------------------------------\n",
      "***************  BsmtCond  ***************\n",
      "TA    1301\n",
      "Gd      64\n",
      "Fa      45\n",
      "Po       2\n",
      "Name: BsmtCond, dtype: int64\n",
      "-----------------------------------------------------------\n",
      "***************  BsmtExposure  ***************\n",
      "No    944\n",
      "Av    221\n",
      "Gd    133\n",
      "Mn    114\n",
      "Name: BsmtExposure, dtype: int64\n",
      "-----------------------------------------------------------\n",
      "***************  BsmtFinType1  ***************\n",
      "Unf    426\n",
      "GLQ    412\n",
      "ALQ    220\n",
      "BLQ    148\n",
      "Rec    132\n",
      "LwQ     74\n",
      "Name: BsmtFinType1, dtype: int64\n",
      "-----------------------------------------------------------\n",
      "***************  BsmtFinType2  ***************\n",
      "Unf    1246\n",
      "Rec      54\n",
      "LwQ      46\n",
      "BLQ      33\n",
      "ALQ      19\n",
      "GLQ      14\n",
      "Name: BsmtFinType2, dtype: int64\n",
      "-----------------------------------------------------------\n",
      "***************  Heating  ***************\n",
      "GasA    1386\n",
      "GasW      17\n",
      "Grav       7\n",
      "OthW       2\n",
      "Name: Heating, dtype: int64\n",
      "-----------------------------------------------------------\n",
      "***************  HeatingQC  ***************\n",
      "Ex    725\n",
      "TA    409\n",
      "Gd    234\n",
      "Fa     43\n",
      "Po      1\n",
      "Name: HeatingQC, dtype: int64\n",
      "-----------------------------------------------------------\n",
      "***************  CentralAir  ***************\n",
      "Y    1331\n",
      "N      81\n",
      "Name: CentralAir, dtype: int64\n",
      "-----------------------------------------------------------\n",
      "***************  Electrical  ***************\n",
      "SBrkr    1300\n",
      "FuseA      88\n",
      "FuseF      21\n",
      "FuseP       2\n",
      "Mix         1\n",
      "Name: Electrical, dtype: int64\n",
      "-----------------------------------------------------------\n",
      "***************  KitchenQual  ***************\n",
      "TA    705\n",
      "Gd    573\n",
      "Ex     99\n",
      "Fa     35\n",
      "Name: KitchenQual, dtype: int64\n",
      "-----------------------------------------------------------\n",
      "***************  Functional  ***************\n",
      "Typ     1322\n",
      "Min2      31\n",
      "Min1      28\n",
      "Maj1      13\n",
      "Mod       12\n",
      "Maj2       5\n",
      "Sev        1\n",
      "Name: Functional, dtype: int64\n",
      "-----------------------------------------------------------\n",
      "***************  PavedDrive  ***************\n",
      "Y    1303\n",
      "N      80\n",
      "P      29\n",
      "Name: PavedDrive, dtype: int64\n",
      "-----------------------------------------------------------\n",
      "***************  SaleType  ***************\n",
      "WD       1224\n",
      "New       119\n",
      "COD        42\n",
      "ConLD       8\n",
      "ConLI       5\n",
      "ConLw       5\n",
      "CWD         4\n",
      "Oth         3\n",
      "Con         2\n",
      "Name: SaleType, dtype: int64\n",
      "-----------------------------------------------------------\n",
      "***************  SaleCondition  ***************\n",
      "Normal     1159\n",
      "Partial     122\n",
      "Abnorml     100\n",
      "Family       20\n",
      "Alloca        8\n",
      "AdjLand       3\n",
      "Name: SaleCondition, dtype: int64\n",
      "-----------------------------------------------------------\n"
     ]
    }
   ],
   "source": [
    "# Looking into all the catogrical columns.\n",
    "for i in data.columns:\n",
    "    if data[i].dtype == 'O':\n",
    "        print('*************** ',i,' ***************')\n",
    "        print(data[i].value_counts())\n",
    "        print('-----------------------------------------------------------')"
   ]
  },
  {
   "cell_type": "code",
   "execution_count": 17,
   "id": "83acb879",
   "metadata": {},
   "outputs": [],
   "source": [
    "#Creating dummy variables for all the catogrical variable.\n",
    "for i in data.columns:\n",
    "    if data[i].dtype == 'O':\n",
    "        dummy = pd.get_dummies(data[i], prefix=i, prefix_sep='_', drop_first=True)\n",
    "        data = pd.concat([data,dummy], axis=1)\n",
    "        data.drop(columns=i, inplace=True)"
   ]
  },
  {
   "cell_type": "code",
   "execution_count": 18,
   "id": "1f13a07b",
   "metadata": {},
   "outputs": [
    {
     "data": {
      "text/plain": [
       "(1412, 212)"
      ]
     },
     "execution_count": 18,
     "metadata": {},
     "output_type": "execute_result"
    }
   ],
   "source": [
    "data.shape"
   ]
  },
  {
   "cell_type": "code",
   "execution_count": 19,
   "id": "98d636de",
   "metadata": {},
   "outputs": [
    {
     "data": {
      "text/plain": [
       "Index(['MSSubClass', 'LotArea', 'OverallQual', 'OverallCond', 'YearBuilt',\n",
       "       'YearRemodAdd', 'MasVnrArea', 'BsmtFinSF1', 'BsmtFinSF2', 'BsmtUnfSF',\n",
       "       ...\n",
       "       'SaleType_ConLI', 'SaleType_ConLw', 'SaleType_New', 'SaleType_Oth',\n",
       "       'SaleType_WD', 'SaleCondition_AdjLand', 'SaleCondition_Alloca',\n",
       "       'SaleCondition_Family', 'SaleCondition_Normal',\n",
       "       'SaleCondition_Partial'],\n",
       "      dtype='object', length=212)"
      ]
     },
     "execution_count": 19,
     "metadata": {},
     "output_type": "execute_result"
    }
   ],
   "source": [
    "data.columns"
   ]
  },
  {
   "cell_type": "code",
   "execution_count": 20,
   "id": "fd06d821",
   "metadata": {},
   "outputs": [],
   "source": [
    "#Creating dependent and independent variable\n",
    "y = data.pop('SalePrice')\n",
    "x = data"
   ]
  },
  {
   "cell_type": "code",
   "execution_count": 21,
   "id": "f4923b08",
   "metadata": {},
   "outputs": [],
   "source": [
    "#Splitting data into train and test.\n",
    "x_train,x_test,y_train,y_test = train_test_split(x,y,train_size=0.7,random_state=100)"
   ]
  },
  {
   "cell_type": "code",
   "execution_count": 22,
   "id": "e9aa1b08",
   "metadata": {},
   "outputs": [
    {
     "data": {
      "text/plain": [
       "(988, 211)"
      ]
     },
     "execution_count": 22,
     "metadata": {},
     "output_type": "execute_result"
    }
   ],
   "source": [
    "x_train.shape"
   ]
  },
  {
   "cell_type": "code",
   "execution_count": 23,
   "id": "63097fef",
   "metadata": {},
   "outputs": [],
   "source": [
    "#Standard Scaling\n",
    "scale = StandardScaler()\n",
    "x_train_scale = scale.fit_transform(x_train)\n",
    "x_test_scale = scale.transform(x_test)"
   ]
  },
  {
   "cell_type": "code",
   "execution_count": 24,
   "id": "4e293963",
   "metadata": {},
   "outputs": [
    {
     "data": {
      "text/plain": [
       "(988, 211)"
      ]
     },
     "execution_count": 24,
     "metadata": {},
     "output_type": "execute_result"
    }
   ],
   "source": [
    "x_train_scale.shape"
   ]
  },
  {
   "cell_type": "markdown",
   "id": "775e4e0b",
   "metadata": {},
   "source": [
    "# PCA"
   ]
  },
  {
   "cell_type": "code",
   "execution_count": 25,
   "id": "1f0ce0f9",
   "metadata": {},
   "outputs": [],
   "source": [
    "pca = PCA(0.95,random_state=100)"
   ]
  },
  {
   "cell_type": "code",
   "execution_count": 26,
   "id": "496d29ba",
   "metadata": {},
   "outputs": [],
   "source": [
    "x_train_pca = pca.fit_transform(x_train_scale)\n",
    "x_test_pca = pca.transform(x_test_scale)"
   ]
  },
  {
   "cell_type": "code",
   "execution_count": 27,
   "id": "1f64b2a1",
   "metadata": {},
   "outputs": [
    {
     "data": {
      "text/plain": [
       "array([0.06798706, 0.10285266, 0.12978933, 0.152477  , 0.17314207,\n",
       "       0.19091066, 0.20730724, 0.22271893, 0.23681822, 0.25064411,\n",
       "       0.26424363, 0.27714556, 0.28972187, 0.30194912, 0.31377046,\n",
       "       0.32546648, 0.33698262, 0.34805214, 0.35882743, 0.3695333 ,\n",
       "       0.37991198, 0.3901612 , 0.40023667, 0.41002645, 0.41976283,\n",
       "       0.42931238, 0.43876664, 0.44783399, 0.45684484, 0.46564906,\n",
       "       0.47421631, 0.48260856, 0.49091568, 0.49911911, 0.50714817,\n",
       "       0.51504923, 0.52288924, 0.53057556, 0.53820902, 0.54565724,\n",
       "       0.55308013, 0.56036072, 0.5675403 , 0.5745894 , 0.5815538 ,\n",
       "       0.58843098, 0.59516145, 0.60185063, 0.60847285, 0.61497774,\n",
       "       0.62140236, 0.62769428, 0.63395029, 0.64008814, 0.64616031,\n",
       "       0.65216765, 0.65813393, 0.66400805, 0.66983136, 0.67562538,\n",
       "       0.68133284, 0.68695879, 0.69248197, 0.69796565, 0.70341688,\n",
       "       0.70882996, 0.71413936, 0.71937771, 0.72456015, 0.72969409,\n",
       "       0.73476198, 0.73976185, 0.74472725, 0.74966588, 0.75453589,\n",
       "       0.75935506, 0.76413148, 0.76887218, 0.77353842, 0.77812523,\n",
       "       0.78268798, 0.78720812, 0.79166913, 0.79599859, 0.80030365,\n",
       "       0.80454969, 0.80872391, 0.81283955, 0.81688741, 0.8209111 ,\n",
       "       0.82491475, 0.82879501, 0.83264549, 0.83647528, 0.84025683,\n",
       "       0.84396244, 0.84761965, 0.85124351, 0.85478583, 0.85829832,\n",
       "       0.86174094, 0.86510076, 0.86841536, 0.87168204, 0.87491034,\n",
       "       0.87812485, 0.88122802, 0.88429039, 0.88734636, 0.89033578,\n",
       "       0.89327551, 0.8961369 , 0.89896822, 0.90176794, 0.90452003,\n",
       "       0.90726991, 0.90994495, 0.9125718 , 0.91518502, 0.91776726,\n",
       "       0.92023771, 0.92269739, 0.92510215, 0.9274663 , 0.92978894,\n",
       "       0.93202236, 0.93419531, 0.93634077, 0.93845921, 0.94050054,\n",
       "       0.94253251, 0.94453663, 0.94645043, 0.94833232, 0.95018924])"
      ]
     },
     "execution_count": 27,
     "metadata": {},
     "output_type": "execute_result"
    }
   ],
   "source": [
    "#Checking if we are getting varaince upto 95%\n",
    "cum = np.cumsum(pca.explained_variance_ratio_)\n",
    "cum"
   ]
  },
  {
   "cell_type": "code",
   "execution_count": 28,
   "id": "9468af84",
   "metadata": {},
   "outputs": [
    {
     "data": {
      "text/plain": [
       "<AxesSubplot:>"
      ]
     },
     "execution_count": 28,
     "metadata": {},
     "output_type": "execute_result"
    },
    {
     "data": {
      "image/png": "[encoded data removed]",
      "text/plain": [
       "<Figure size 432x288 with 2 Axes>"
      ]
     },
     "metadata": {
      "needs_background": "light"
     },
     "output_type": "display_data"
    }
   ],
   "source": [
    "#Checking the correlation(there should not be any).\n",
    "sns.heatmap(np.corrcoef(pca.components_))"
   ]
  },
  {
   "cell_type": "code",
   "execution_count": 29,
   "id": "d16e4a72",
   "metadata": {},
   "outputs": [
    {
     "data": {
      "text/plain": [
       "(988, 135)"
      ]
     },
     "execution_count": 29,
     "metadata": {},
     "output_type": "execute_result"
    }
   ],
   "source": [
    "x_train_pca.shape"
   ]
  },
  {
   "cell_type": "markdown",
   "id": "b9a60fab",
   "metadata": {},
   "source": [
    "# First model using Principle Components"
   ]
  },
  {
   "cell_type": "code",
   "execution_count": 30,
   "id": "d95a4ea6",
   "metadata": {},
   "outputs": [],
   "source": [
    "#Performing linear regression using Principle components.\n",
    "lr1 = LinearRegression()\n",
    "lr1.fit(x_train_pca,y_train)\n",
    "y_train_pred = lr1.predict(x_train_pca)\n",
    "y_test_pred = lr1.predict(x_test_pca)"
   ]
  },
  {
   "cell_type": "code",
   "execution_count": 31,
   "id": "5df15e1c",
   "metadata": {},
   "outputs": [
    {
     "data": {
      "text/plain": [
       "0.9118652974863789"
      ]
     },
     "execution_count": 31,
     "metadata": {},
     "output_type": "execute_result"
    }
   ],
   "source": [
    "r2_score(y_train_pred,y_train)"
   ]
  },
  {
   "cell_type": "code",
   "execution_count": 32,
   "id": "7cf11eed",
   "metadata": {},
   "outputs": [
    {
     "data": {
      "text/plain": [
       "0.7030740171117433"
      ]
     },
     "execution_count": 32,
     "metadata": {},
     "output_type": "execute_result"
    }
   ],
   "source": [
    "r2_score(y_test_pred,y_test)"
   ]
  },
  {
   "cell_type": "markdown",
   "id": "1a351064",
   "metadata": {},
   "source": [
    "**Inferance:** The performance is better on train data then on test data so its not a best model."
   ]
  },
  {
   "cell_type": "markdown",
   "id": "a810d070",
   "metadata": {},
   "source": [
    "**Resedual Analysis**"
   ]
  },
  {
   "cell_type": "code",
   "execution_count": 33,
   "id": "92c93a7f",
   "metadata": {},
   "outputs": [],
   "source": [
    "err = y_train-y_train_pred"
   ]
  },
  {
   "cell_type": "code",
   "execution_count": 34,
   "id": "9a497fff",
   "metadata": {},
   "outputs": [
    {
     "data": {
      "image/png": "[encoded data removed]",
      "text/plain": [
       "<Figure size 432x288 with 1 Axes>"
      ]
     },
     "metadata": {
      "needs_background": "light"
     },
     "output_type": "display_data"
    }
   ],
   "source": [
    "#Checking for any pattern.\n",
    "plt.scatter(y_train_pred,err)\n",
    "plt.xlabel(\"Predictions\")\n",
    "plt.ylabel(\"Residual\")\n",
    "plt.show()"
   ]
  },
  {
   "cell_type": "markdown",
   "id": "df352386",
   "metadata": {},
   "source": [
    "**Inferance:**\n",
    "There is no pattern "
   ]
  },
  {
   "cell_type": "code",
   "execution_count": 35,
   "id": "6d7d1d62",
   "metadata": {},
   "outputs": [
    {
     "data": {
      "text/plain": [
       "<AxesSubplot:xlabel='SalePrice', ylabel='Density'>"
      ]
     },
     "execution_count": 35,
     "metadata": {},
     "output_type": "execute_result"
    },
    {
     "data": {
      "image/png": "[encoded data removed]",
      "text/plain": [
       "<Figure size 432x288 with 1 Axes>"
      ]
     },
     "metadata": {
      "needs_background": "light"
     },
     "output_type": "display_data"
    }
   ],
   "source": [
    "#Checking if error is normally distributed.\n",
    "sns.distplot(err)"
   ]
  },
  {
   "cell_type": "markdown",
   "id": "6f1ced95",
   "metadata": {},
   "source": [
    "**Inferance:**\n",
    "Error is normally distributed.\n"
   ]
  },
  {
   "cell_type": "markdown",
   "id": "e0f7ca6a",
   "metadata": {},
   "source": [
    "# Ridge Regression"
   ]
  },
  {
   "cell_type": "code",
   "execution_count": 36,
   "id": "6149a90a",
   "metadata": {},
   "outputs": [
    {
     "name": "stdout",
     "output_type": "stream",
     "text": [
      "\n",
      "------------------- alpha: 0.001  ------------------\n",
      "Train r2 score = 0.9416204204254189\n",
      "Test r2 score = 0.6985140157283554\n",
      "\n",
      "------------------- alpha: 0.01  ------------------\n",
      "Train r2 score = 0.9416204177897806\n",
      "Test r2 score = 0.6985226790642346\n",
      "\n",
      "------------------- alpha: 0.1  ------------------\n",
      "Train r2 score = 0.9416201779164625\n",
      "Test r2 score = 0.6986090146804244\n",
      "\n",
      "------------------- alpha: 1  ------------------\n",
      "Train r2 score = 0.9416052348869395\n",
      "Test r2 score = 0.6994454550754199\n",
      "\n",
      "------------------- alpha: 10  ------------------\n",
      "Train r2 score = 0.9410988297443086\n",
      "Test r2 score = 0.7058010892169421\n",
      "\n",
      "------------------- alpha: 100  ------------------\n",
      "Train r2 score = 0.9348777333152211\n",
      "Test r2 score = 0.7276407948507946\n",
      "\n",
      "------------------- alpha: 1000  ------------------\n",
      "Train r2 score = 0.8936825632682485\n",
      "Test r2 score = 0.7415066446473919\n",
      "\n",
      "------------------- alpha: 10000  ------------------\n",
      "Train r2 score = 0.6465438167194225\n",
      "Test r2 score = 0.5608650233765451\n"
     ]
    }
   ],
   "source": [
    "alpha = [0.001, 0.01, 0.1, 1, 10, 100, 1000, 10000]\n",
    "for i in alpha:\n",
    "    ridgereg = Ridge(alpha = i) # Initialize the Ridge Regression model with a specific lambda\n",
    "    ridgereg.fit(x_train_scale, y_train)\n",
    "    print()\n",
    "    print('------------------- alpha:',i,' ------------------')\n",
    "    \n",
    "\n",
    "    #Computing the r2 score\n",
    "    y_train_ridge_pred = ridgereg.predict(x_train_scale)\n",
    "    print(\"Train r2 score = \" + str(r2_score(y_train, y_train_ridge_pred)))\n",
    "    y_test_ridge_pred = ridgereg.predict(x_test_scale)\n",
    "    print(\"Test r2 score = \" + str(r2_score(y_test, y_test_ridge_pred))) "
   ]
  },
  {
   "cell_type": "markdown",
   "id": "7e692ce4",
   "metadata": {},
   "source": [
    "**Inferance:** 1000 is the best alpha value as it gives good result in both test and train dataset"
   ]
  },
  {
   "cell_type": "code",
   "execution_count": 37,
   "id": "89b853ba",
   "metadata": {},
   "outputs": [],
   "source": [
    "ridgereg = Ridge(alpha = 1000)\n",
    "ridgereg.fit(x_train_scale, y_train)\n",
    "y_train_ridge_pred = ridgereg.predict(x_train_scale)\n",
    "y_test_ridge_pred = ridgereg.predict(x_test_scale)"
   ]
  },
  {
   "cell_type": "markdown",
   "id": "39785731",
   "metadata": {},
   "source": [
    "**Resedual Analysis**"
   ]
  },
  {
   "cell_type": "code",
   "execution_count": 38,
   "id": "cc954e89",
   "metadata": {},
   "outputs": [
    {
     "data": {
      "image/png": "[encoded data removed]",
      "text/plain": [
       "<Figure size 432x288 with 1 Axes>"
      ]
     },
     "metadata": {
      "needs_background": "light"
     },
     "output_type": "display_data"
    }
   ],
   "source": [
    "#Checking for any pattern.\n",
    "err = y_train-y_train_ridge_pred\n",
    "plt.scatter(y_train_ridge_pred,err)\n",
    "plt.xlabel(\"Predictions\")\n",
    "plt.ylabel(\"Residual\")\n",
    "plt.show()"
   ]
  },
  {
   "cell_type": "markdown",
   "id": "f601c157",
   "metadata": {},
   "source": [
    "**Inferance:** There is no pattern."
   ]
  },
  {
   "cell_type": "code",
   "execution_count": 39,
   "id": "f9fcd5d9",
   "metadata": {},
   "outputs": [
    {
     "data": {
      "text/plain": [
       "<AxesSubplot:xlabel='SalePrice', ylabel='Density'>"
      ]
     },
     "execution_count": 39,
     "metadata": {},
     "output_type": "execute_result"
    },
    {
     "data": {
      "image/png": "[encoded data removed]",
      "text/plain": [
       "<Figure size 432x288 with 1 Axes>"
      ]
     },
     "metadata": {
      "needs_background": "light"
     },
     "output_type": "display_data"
    }
   ],
   "source": [
    "#Checking if error is normally distributed.\n",
    "sns.distplot(err)"
   ]
  },
  {
   "cell_type": "markdown",
   "id": "6520a427",
   "metadata": {},
   "source": [
    "**Inferance:** Error is normally distributed."
   ]
  },
  {
   "cell_type": "markdown",
   "id": "50db10d2",
   "metadata": {},
   "source": [
    "# Lasso Regression"
   ]
  },
  {
   "cell_type": "code",
   "execution_count": 40,
   "id": "4b183b0b",
   "metadata": {
    "scrolled": true
   },
   "outputs": [
    {
     "name": "stdout",
     "output_type": "stream",
     "text": [
      "\n",
      "------------------- alpha: 0.001  ------------------\n",
      "Train r2 score = 0.9416197941956884\n",
      "Test r2 score = 0.6963961017810063\n",
      "\n",
      "------------------- alpha: 0.01  ------------------\n",
      "Train r2 score = 0.9416197915815747\n",
      "Test r2 score = 0.6964405152653896\n",
      "\n",
      "------------------- alpha: 0.1  ------------------\n",
      "Train r2 score = 0.9416197603734088\n",
      "Test r2 score = 0.6968840439705528\n",
      "\n",
      "------------------- alpha: 1  ------------------\n",
      "Train r2 score = 0.9416189396323671\n",
      "Test r2 score = 0.700640566140822\n",
      "\n",
      "------------------- alpha: 10  ------------------\n",
      "Train r2 score = 0.9415701195025699\n",
      "Test r2 score = 0.7015027578865279\n",
      "\n",
      "------------------- alpha: 100  ------------------\n",
      "Train r2 score = 0.9396964000226744\n",
      "Test r2 score = 0.7069162183930843\n",
      "\n",
      "------------------- alpha: 1000  ------------------\n",
      "Train r2 score = 0.9185969057576235\n",
      "Test r2 score = 0.7100964922673286\n",
      "\n",
      "------------------- alpha: 10000  ------------------\n",
      "Train r2 score = 0.8010088465391983\n",
      "Test r2 score = 0.6602153203270325\n"
     ]
    }
   ],
   "source": [
    "alpha = [0.001, 0.01, 0.1, 1, 10, 100, 1000,10000]\n",
    "for i in alpha:\n",
    "    lassoreg = Lasso(alpha = i) # Initialize the Ridge Regression model with a specific lambda\n",
    "    lassoreg.fit(x_train_scale, y_train)\n",
    "    print()\n",
    "    print('------------------- alpha:',i,' ------------------')\n",
    "    \n",
    "\n",
    "    #Computing the r2 score\n",
    "    y_train_lasso_pred = lassoreg.predict(x_train_scale)\n",
    "    print(\"Train r2 score = \" + str(r2_score(y_train, y_train_lasso_pred)))\n",
    "    y_test_lasso_pred = lassoreg.predict(x_test_scale)\n",
    "    print(\"Test r2 score = \" + str(r2_score(y_test, y_test_lasso_pred)))"
   ]
  },
  {
   "cell_type": "markdown",
   "id": "dae26bc0",
   "metadata": {},
   "source": [
    "**Inferance:** 1000 is the best alpha value as it gives good result in both test and train dataset"
   ]
  },
  {
   "cell_type": "code",
   "execution_count": 41,
   "id": "0b099a04",
   "metadata": {},
   "outputs": [],
   "source": [
    "lassoreg = Lasso(alpha = 1000)\n",
    "lassoreg.fit(x_train_scale, y_train)\n",
    "y_train_lasso_pred = lassoreg.predict(x_train_scale)\n",
    "y_test_lasso_pred = lassoreg.predict(x_test_scale)"
   ]
  },
  {
   "cell_type": "markdown",
   "id": "37f82bad",
   "metadata": {},
   "source": [
    "**Resedual Analysis**"
   ]
  },
  {
   "cell_type": "code",
   "execution_count": 42,
   "id": "e9b2aba3",
   "metadata": {},
   "outputs": [
    {
     "data": {
      "image/png": "[encoded data removed]",
      "text/plain": [
       "<Figure size 432x288 with 1 Axes>"
      ]
     },
     "metadata": {
      "needs_background": "light"
     },
     "output_type": "display_data"
    }
   ],
   "source": [
    "#Checking for any pattern.\n",
    "err = y_train-y_train_lasso_pred\n",
    "plt.scatter(y_train_lasso_pred,err)\n",
    "plt.xlabel(\"Predictions\")\n",
    "plt.ylabel(\"Residual\")\n",
    "plt.show()"
   ]
  },
  {
   "cell_type": "markdown",
   "id": "d806b4b0",
   "metadata": {},
   "source": [
    "**Inferance:** There is no pattern."
   ]
  },
  {
   "cell_type": "code",
   "execution_count": 43,
   "id": "7599bbb8",
   "metadata": {},
   "outputs": [
    {
     "data": {
      "text/plain": [
       "<AxesSubplot:xlabel='SalePrice', ylabel='Density'>"
      ]
     },
     "execution_count": 43,
     "metadata": {},
     "output_type": "execute_result"
    },
    {
     "data": {
      "image/png": "[encoded data removed]",
      "text/plain": [
       "<Figure size 432x288 with 1 Axes>"
      ]
     },
     "metadata": {
      "needs_background": "light"
     },
     "output_type": "display_data"
    }
   ],
   "source": [
    "#Checking if error is normally distributed.\n",
    "sns.distplot(err)"
   ]
  },
  {
   "cell_type": "markdown",
   "id": "46dc72de",
   "metadata": {},
   "source": [
    "**Inferance:** Error is normally distributed."
   ]
  },
  {
   "cell_type": "markdown",
   "id": "2ca09b6a",
   "metadata": {},
   "source": [
    "# Selecting Model"
   ]
  },
  {
   "cell_type": "markdown",
   "id": "7c3f335c",
   "metadata": {},
   "source": [
    "**After analysing linear regression(using PCA), Ridge regression, Lasso Regression I can see Ridge regression with alpha = 1000 is the best model we can select.**"
   ]
  },
  {
   "cell_type": "markdown",
   "id": "8453b603",
   "metadata": {},
   "source": [
    "**SUMMARY:**\n",
    "- Linear Regression using PCA gives r2_score of 0.91 and 0.70 on train and test dataset.\n",
    "- Ridge Regression best result was for alpha = 1000 with r2_score of 0.89 and 0.74 on train and test dataset.\n",
    "- Lasso Regression best result was for alpha = 1000 with r2_score of 0.91 and 0.71 on train and test dataset.\n",
    "- All these model sucessfully pass the Residual Analysis.\n",
    "- After all the analysis I came to conclusion that Ridge Regression is the best performing model(alpha = 1000)."
   ]
  },
  {
   "cell_type": "code",
   "execution_count": 44,
   "id": "036eda55",
   "metadata": {},
   "outputs": [],
   "source": [
    "#Getting all the features and their cofficient values\n",
    "columns_imp = pd.DataFrame(ridgereg.coef_, index=x_train.columns)\n",
    "columns_imp = columns_imp.sort_values(by=0,ascending=False)"
   ]
  },
  {
   "cell_type": "code",
   "execution_count": 45,
   "id": "1e6fbf0f",
   "metadata": {},
   "outputs": [
    {
     "name": "stdout",
     "output_type": "stream",
     "text": [
      "Top 10 variables which are positevely affecting the price\n",
      "                                0\n",
      "GrLivArea             7366.407050\n",
      "OverallQual           7063.087005\n",
      "TotalBsmtSF           5535.518035\n",
      "1stFlrSF              5454.358361\n",
      "TotRmsAbvGrd          4505.714054\n",
      "Neighborhood_NridgHt  4430.586335\n",
      "BsmtFinSF1            4203.062280\n",
      "2ndFlrSF              3944.873101\n",
      "GarageArea            3812.593440\n",
      "Fireplaces            3721.042174\n",
      "\n",
      "Top 10 variables which are negetively affecting the price\n",
      "                           0\n",
      "BldgType_TwnhsE -1597.393642\n",
      "BsmtQual_Gd     -1637.585489\n",
      "BldgType_Twnhs  -1659.098202\n",
      "KitchenAbvGr    -1661.928082\n",
      "RoofStyle_Gable -1750.097524\n",
      "MSSubClass      -1920.893493\n",
      "BsmtExposure_No -2285.730778\n",
      "BsmtQual_TA     -2323.296414\n",
      "KitchenQual_TA  -2830.591627\n",
      "ExterQual_TA    -3210.397976\n"
     ]
    }
   ],
   "source": [
    "#Significant variable that is affecting the price\n",
    "print(\"Top 10 variables which are positevely affecting the price\")\n",
    "print(columns_imp.head(10))\n",
    "print()\n",
    "print(\"Top 10 variables which are negetively affecting the price\")\n",
    "print(columns_imp.tail(10))"
   ]
  },
  {
   "cell_type": "markdown",
   "id": "789594db",
   "metadata": {},
   "source": [
    "# Subjective Questions "
   ]
  },
  {
   "cell_type": "code",
   "execution_count": 46,
   "id": "a559eb75",
   "metadata": {},
   "outputs": [
    {
     "name": "stdout",
     "output_type": "stream",
     "text": [
      "Train:  0.8573175065871471 , Test:  0.7249341830874221\n",
      "Train:  0.896276766430692 , Test:  0.7000733953962781\n"
     ]
    }
   ],
   "source": [
    "#Question 1\n",
    "#Cecking the most important predictor value after we double the alpha value for both ridge and lasso \n",
    "#------------Ridge------------\n",
    "ridgereg = Ridge(alpha = 2000)\n",
    "ridgereg.fit(x_train_scale, y_train)\n",
    "y_train_ridge_pred = ridgereg.predict(x_train_scale)\n",
    "y_test_ridge_pred = ridgereg.predict(x_test_scale)\n",
    "print('Train: ',r2_score(y_train, y_train_ridge_pred),', Test: ',r2_score(y_test, y_test_ridge_pred))\n",
    "\n",
    "#-----------Lasso-------------\n",
    "lassoreg = Lasso(alpha = 2000)\n",
    "lassoreg.fit(x_train_scale, y_train)\n",
    "y_train_lasso_pred = lassoreg.predict(x_train_scale)\n",
    "y_test_lasso_pred = lassoreg.predict(x_test_scale)\n",
    "print('Train: ',r2_score(y_train, y_train_lasso_pred),', Test: ',r2_score(y_test, y_test_lasso_pred))"
   ]
  },
  {
   "cell_type": "code",
   "execution_count": 47,
   "id": "81bb944f",
   "metadata": {},
   "outputs": [
    {
     "name": "stdout",
     "output_type": "stream",
     "text": [
      "Top 10 variables which are positevely affecting the price\n",
      "                                0\n",
      "GrLivArea             6017.600666\n",
      "OverallQual           5777.449780\n",
      "1stFlrSF              4699.460133\n",
      "TotalBsmtSF           4677.909486\n",
      "TotRmsAbvGrd          4029.923157\n",
      "GarageArea            3649.351249\n",
      "Neighborhood_NridgHt  3543.880240\n",
      "Fireplaces            3482.377014\n",
      "BsmtFinSF1            3385.058685\n",
      "GarageCars            3343.688162\n",
      "\n",
      "Top 10 variables which are negetively affecting the price\n",
      "                             0\n",
      "BldgType_Twnhs    -1263.599802\n",
      "Foundation_CBlock -1270.782288\n",
      "MSSubClass        -1370.940823\n",
      "MSZoning_RM       -1393.943054\n",
      "HeatingQC_TA      -1426.277826\n",
      "RoofStyle_Gable   -1740.018777\n",
      "BsmtExposure_No   -1924.110411\n",
      "BsmtQual_TA       -2049.773984\n",
      "KitchenQual_TA    -2539.939794\n",
      "ExterQual_TA      -2923.308792\n"
     ]
    }
   ],
   "source": [
    "#Getting all the features and their cofficient values for ridge after implementing changes\n",
    "columns_imp = pd.DataFrame(ridgereg.coef_, index=x_train.columns)\n",
    "columns_imp = columns_imp.sort_values(by=0,ascending=False)\n",
    "#Significant variable that is affecting the price\n",
    "print(\"Top 10 variables which are positevely affecting the price\")\n",
    "print(columns_imp.head(10))\n",
    "print()\n",
    "print(\"Top 10 variables which are negetively affecting the price\")\n",
    "print(columns_imp.tail(10))"
   ]
  },
  {
   "cell_type": "code",
   "execution_count": 48,
   "id": "df20f72f",
   "metadata": {},
   "outputs": [
    {
     "name": "stdout",
     "output_type": "stream",
     "text": [
      "Top 10 variables which are positevely affecting the price\n",
      "                                 0\n",
      "GrLivArea             27640.775452\n",
      "OverallQual           17734.998293\n",
      "BsmtFinSF1             7773.675742\n",
      "TotalBsmtSF            6877.743240\n",
      "Neighborhood_NridgHt   6793.013094\n",
      "YearBuilt              4756.864325\n",
      "SaleType_New           4746.883002\n",
      "GarageArea             4387.071793\n",
      "LotArea                4143.865137\n",
      "YearRemodAdd           4141.961965\n",
      "\n",
      "Top 10 variables which are negetively affecting the price\n",
      "                               0\n",
      "Exterior1st_HdBoard   -47.198401\n",
      "BedroomAbvGr         -120.335655\n",
      "MSZoning_RM          -422.697113\n",
      "Heating_OthW         -525.938500\n",
      "Functional_Sev       -526.891449\n",
      "KitchenQual_TA       -551.196140\n",
      "BsmtExposure_No     -2034.626223\n",
      "KitchenAbvGr        -2485.226267\n",
      "ExterQual_TA        -2525.002307\n",
      "MSSubClass          -4570.874367\n"
     ]
    }
   ],
   "source": [
    "#Getting all the features and their cofficient values for lasso after implementing changes\n",
    "columns_imp = pd.DataFrame(lassoreg.coef_, index=x_train.columns)\n",
    "columns_imp = columns_imp.sort_values(by=0,ascending=False)\n",
    "#Significant variable that is affecting the price\n",
    "print(\"Top 10 variables which are positevely affecting the price\")\n",
    "print(columns_imp.head(10))\n",
    "print()\n",
    "print(\"Top 10 variables which are negetively affecting the price\")\n",
    "print(columns_imp.tail(10))"
   ]
  },
  {
   "cell_type": "markdown",
   "id": "25eadb5e",
   "metadata": {},
   "source": [
    "**Question 3**"
   ]
  },
  {
   "cell_type": "code",
   "execution_count": 49,
   "id": "bd859139",
   "metadata": {},
   "outputs": [],
   "source": [
    "#Dropping top 5 features we got from lasso regression\n",
    "x_train_dropped = x_train.drop(columns=['GrLivArea','OverallQual','BsmtFinSF1','TotalBsmtSF','Neighborhood_NridgHt'])\n",
    "x_test_dropped = x_test.drop(columns=['GrLivArea','OverallQual','BsmtFinSF1','TotalBsmtSF','Neighborhood_NridgHt'])"
   ]
  },
  {
   "cell_type": "code",
   "execution_count": 50,
   "id": "67a48f55",
   "metadata": {},
   "outputs": [],
   "source": [
    "#scale variable\n",
    "scale = StandardScaler()\n",
    "x_train_dropped_scale = scale.fit_transform(x_train_dropped)\n",
    "x_test_dropped_scale = scale.transform(x_test_dropped)\n"
   ]
  },
  {
   "cell_type": "code",
   "execution_count": 51,
   "id": "89ee9dc4",
   "metadata": {},
   "outputs": [
    {
     "name": "stdout",
     "output_type": "stream",
     "text": [
      "\n",
      "------------------- alpha: 0.001  ------------------\n",
      "Train r2 score = 0.9351773915959897\n",
      "Test r2 score = 0.7330907169288355\n",
      "\n",
      "------------------- alpha: 0.01  ------------------\n",
      "Train r2 score = 0.9351773724230421\n",
      "Test r2 score = 0.7331275328445361\n",
      "\n",
      "------------------- alpha: 0.1  ------------------\n",
      "Train r2 score = 0.9351771699633328\n",
      "Test r2 score = 0.7334947612783487\n",
      "\n",
      "------------------- alpha: 1  ------------------\n",
      "Train r2 score = 0.9351740770127841\n",
      "Test r2 score = 0.7342219483516531\n",
      "\n",
      "------------------- alpha: 10  ------------------\n",
      "Train r2 score = 0.9350983147627369\n",
      "Test r2 score = 0.7337100146003761\n",
      "\n",
      "------------------- alpha: 100  ------------------\n",
      "Train r2 score = 0.9330880820403566\n",
      "Test r2 score = 0.7319179886214806\n",
      "\n",
      "------------------- alpha: 1000  ------------------\n",
      "Train r2 score = 0.9087727891164337\n",
      "Test r2 score = 0.7350829516513311\n",
      "\n",
      "------------------- alpha: 10000  ------------------\n",
      "Train r2 score = 0.7425103179045371\n",
      "Test r2 score = 0.6325371981502501\n"
     ]
    }
   ],
   "source": [
    "#Lasso Regression\n",
    "alpha = [0.001, 0.01, 0.1, 1, 10, 100, 1000,10000]\n",
    "for i in alpha:\n",
    "    lassoreg = Lasso(alpha = i) # Initialize the Ridge Regression model with a specific lambda\n",
    "    lassoreg.fit(x_train_dropped_scale, y_train)\n",
    "    print()\n",
    "    print('------------------- alpha:',i,' ------------------')\n",
    "    \n",
    "\n",
    "    #Computing the r2 score\n",
    "    y_train_lasso_pred = lassoreg.predict(x_train_dropped_scale)\n",
    "    print(\"Train r2 score = \" + str(r2_score(y_train, y_train_lasso_pred)))\n",
    "    y_test_lasso_pred = lassoreg.predict(x_test_dropped_scale)\n",
    "    print(\"Test r2 score = \" + str(r2_score(y_test, y_test_lasso_pred)))"
   ]
  },
  {
   "cell_type": "code",
   "execution_count": 52,
   "id": "61ffa3c7",
   "metadata": {},
   "outputs": [],
   "source": [
    "lassoreg = Lasso(alpha = 1000)\n",
    "lassoreg.fit(x_train_dropped_scale, y_train)\n",
    "y_train_lasso_pred = lassoreg.predict(x_train_dropped_scale)\n",
    "y_test_lasso_pred = lassoreg.predict(x_test_dropped_scale)"
   ]
  },
  {
   "cell_type": "code",
   "execution_count": 53,
   "id": "7b861315",
   "metadata": {},
   "outputs": [
    {
     "name": "stdout",
     "output_type": "stream",
     "text": [
      "Top 10 variables which are positevely affecting the price\n",
      "                                 0\n",
      "1stFlrSF              27672.136196\n",
      "2ndFlrSF              25456.128610\n",
      "YearBuilt             10324.714914\n",
      "GarageArea             6005.439996\n",
      "LotArea                5677.199346\n",
      "OverallCond            5465.214560\n",
      "SaleType_New           4946.640258\n",
      "Neighborhood_StoneBr   4768.114400\n",
      "BsmtExposure_Gd        4692.735818\n",
      "BsmtFinType1_GLQ       4463.451443\n",
      "\n",
      "Top 10 variables which are negetively affecting the price\n",
      "                            0\n",
      "BsmtExposure_No  -2067.423729\n",
      "KitchenQual_Fa   -2206.343206\n",
      "LandSlope_Sev    -2216.035181\n",
      "KitchenAbvGr     -3771.394789\n",
      "MSSubClass       -4824.318111\n",
      "ExterQual_TA     -5440.088932\n",
      "BsmtQual_TA      -6672.602316\n",
      "BsmtQual_Gd      -7126.872678\n",
      "KitchenQual_TA  -10785.221220\n",
      "KitchenQual_Gd  -11764.568993\n"
     ]
    }
   ],
   "source": [
    "#Getting all the features and their cofficient values for lasso after implementing changes\n",
    "columns_imp = pd.DataFrame(lassoreg.coef_, index=x_train_dropped.columns)\n",
    "columns_imp = columns_imp.sort_values(by=0,ascending=False)\n",
    "#Significant variable that is affecting the price\n",
    "print(\"Top 10 variables which are positevely affecting the price\")\n",
    "print(columns_imp.head(10))\n",
    "print()\n",
    "print(\"Top 10 variables which are negetively affecting the price\")\n",
    "print(columns_imp.tail(10))"
   ]
  },
  {
   "cell_type": "markdown",
   "id": "92f11feb",
   "metadata": {},
   "source": [
    "**ANSWER** : Top 5 features now are ['1stFlrSF','2ndFlrSF','YearBuilt','GarageArea','LotArea']"
   ]
  }
 ],
 "metadata": {
  "kernelspec": {
   "display_name": "Python 3",
   "language": "python",
   "name": "python3"
  },
  "language_info": {
   "codemirror_mode": {
    "name": "ipython",
    "version": 3
   },
   "file_extension": ".py",
   "mimetype": "text/x-python",
   "name": "python",
   "nbconvert_exporter": "python",
   "pygments_lexer": "ipython3",
   "version": "3.8.8"
  }
 },
 "nbformat": 4,
 "nbformat_minor": 5
}
